{
 "cells": [
  {
   "cell_type": "markdown",
   "id": "f4efe0ce",
   "metadata": {},
   "source": [
    "🔅 Task 4.2 Take 2 image and combine it to form single image. For example collage"
   ]
  },
  {
   "cell_type": "markdown",
   "id": "c176b65d",
   "metadata": {},
   "source": [
    "import cv2\n",
    "import numpy"
   ]
  },
  {
   "cell_type": "code",
   "execution_count": 131,
   "id": "ec87d35d",
   "metadata": {},
   "outputs": [],
   "source": [
    "fast_pic = cv2.imread(\"a.jpg\")"
   ]
  },
  {
   "cell_type": "code",
   "execution_count": 132,
   "id": "b0ef16d2",
   "metadata": {},
   "outputs": [
    {
     "data": {
      "text/plain": [
       "(450, 800, 3)"
      ]
     },
     "execution_count": 132,
     "metadata": {},
     "output_type": "execute_result"
    }
   ],
   "source": [
    "fast_pic.shape"
   ]
  },
  {
   "cell_type": "code",
   "execution_count": 133,
   "id": "a441fa16",
   "metadata": {},
   "outputs": [],
   "source": [
    "Second_pic = cv2.imread(\"b.jpg\")"
   ]
  },
  {
   "cell_type": "code",
   "execution_count": 134,
   "id": "75d600f0",
   "metadata": {},
   "outputs": [
    {
     "data": {
      "text/plain": [
       "(450, 800, 3)"
      ]
     },
     "execution_count": 134,
     "metadata": {},
     "output_type": "execute_result"
    }
   ],
   "source": [
    "Second_pic.shape"
   ]
  },
  {
   "cell_type": "code",
   "execution_count": 136,
   "id": "32b82f40",
   "metadata": {},
   "outputs": [],
   "source": [
    "v_img = cv2.vconcat([fast_pic, Second_pic])\n",
    "h_img = cv2.hconcat([fast_pic, Second_pic])\n",
    "\n",
    "cv2.imshow('Horizontal', h_img)\n",
    "cv2.imshow('Vertical', v_img)\n",
    "cv2.waitKey(0)\n",
    "cv2.destroyAllWindows()"
   ]
  },
  {
   "cell_type": "code",
   "execution_count": null,
   "id": "2b4ae6b1",
   "metadata": {},
   "outputs": [],
   "source": []
  }
 ],
 "metadata": {
  "kernelspec": {
   "display_name": "Python 3",
   "language": "python",
   "name": "python3"
  },
  "language_info": {
   "codemirror_mode": {
    "name": "ipython",
    "version": 3
   },
   "file_extension": ".py",
   "mimetype": "text/x-python",
   "name": "python",
   "nbconvert_exporter": "python",
   "pygments_lexer": "ipython3",
   "version": "3.8.8"
  }
 },
 "nbformat": 4,
 "nbformat_minor": 5
}
